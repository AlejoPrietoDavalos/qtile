{
 "cells": [
  {
   "cell_type": "code",
   "execution_count": 1,
   "metadata": {},
   "outputs": [],
   "source": [
    "from settings.colors import ColorBar\n",
    "from settings.config_qtile import (\n",
    "    ConfigQTILE,\n",
    "    ConfigBar,\n",
    "    ConfigScreen,\n",
    "    ConfigGroupBox,\n",
    "    ConfigFont,\n",
    "    ConfigClock\n",
    ")"
   ]
  },
  {
   "cell_type": "markdown",
   "metadata": {},
   "source": [
    "# Themes"
   ]
  },
  {
   "cell_type": "markdown",
   "metadata": {},
   "source": [
    "### Azulado"
   ]
  },
  {
   "cell_type": "code",
   "execution_count": 2,
   "metadata": {},
   "outputs": [],
   "source": [
    "cfg = ConfigQTILE(\n",
    "    theme_name = \"azulado\",\n",
    "    bar = ConfigBar(\n",
    "        background = ColorBar.background,\n",
    "        size = 24,\n",
    "        border_width = [2, 0, 2, 0]        # Draw top and bottom borders\n",
    "    ),\n",
    "    screen = ConfigScreen(\n",
    "        wallpaper_mode = \"fill\",\n",
    "        x11_drag_polling_rate = 60\n",
    "    ),\n",
    "    groupbox = ConfigGroupBox(\n",
    "        active = ColorBar.letter_normal,\n",
    "        inactive = ColorBar.letter_inactive,\n",
    "        margin_y = 3,\n",
    "        margin_x = 0,\n",
    "        borderwidth = 3,\n",
    "        highlight_method = \"block\"   #line\n",
    "    ),\n",
    "    font = ConfigFont(\n",
    "        font = \"HackNerdFont bold\",\n",
    "        fontsize = 15,\n",
    "        padding = 10\n",
    "    ),\n",
    "    clock = ConfigClock(\n",
    "        format = \"%d/%m/%Y | %H:%M\",\n",
    "        foreground = ColorBar.letter_normal\n",
    "    )\n",
    ")\n",
    "\n",
    "cfg.save_theme()"
   ]
  },
  {
   "cell_type": "markdown",
   "metadata": {},
   "source": [
    "### asd"
   ]
  },
  {
   "cell_type": "code",
   "execution_count": null,
   "metadata": {},
   "outputs": [],
   "source": [
    "#asd"
   ]
  }
 ],
 "metadata": {
  "kernelspec": {
   "display_name": "Python 3",
   "language": "python",
   "name": "python3"
  },
  "language_info": {
   "codemirror_mode": {
    "name": "ipython",
    "version": 3
   },
   "file_extension": ".py",
   "mimetype": "text/x-python",
   "name": "python",
   "nbconvert_exporter": "python",
   "pygments_lexer": "ipython3",
   "version": "3.11.5"
  }
 },
 "nbformat": 4,
 "nbformat_minor": 2
}
